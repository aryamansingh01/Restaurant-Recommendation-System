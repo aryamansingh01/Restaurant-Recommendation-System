{
 "cells": [
  {
   "cell_type": "code",
   "execution_count": 1,
   "metadata": {},
   "outputs": [],
   "source": [
    "import pandas as pd\n",
    "lko_rest = pd.read_csv(\"food1.csv\")"
   ]
  },
  {
   "cell_type": "code",
   "execution_count": 2,
   "metadata": {},
   "outputs": [],
   "source": [
    "def fav(lko_rest1):\n",
    "    lko_rest1 = lko_rest1.reset_index()\n",
    "    from sklearn.feature_extraction.text import CountVectorizer\n",
    "\n",
    "    count1 = CountVectorizer(stop_words='english')\n",
    "    count_matrix = count1.fit_transform(lko_rest1['highlights'])\n",
    "    from sklearn.metrics.pairwise import cosine_similarity\n",
    "\n",
    "    cosine_sim2 = cosine_similarity(count_matrix, count_matrix)\n",
    "\n",
    "    sim = list(enumerate(cosine_sim2[0]))\n",
    "    sim = sorted(sim, key=lambda x: x[1], reverse=True)\n",
    "    sim = sim[1:11]\n",
    "    indi = [i[0] for i in sim]\n",
    "\n",
    "    final = lko_rest1.copy().iloc[indi[0]]\n",
    "    final = pd.DataFrame(final)\n",
    "    final = final.T\n",
    "\n",
    "    for i in range(1, len(indi)):\n",
    "        final1 = lko_rest1.copy().iloc[indi[i]]\n",
    "        final1 = pd.DataFrame(final1)\n",
    "        final1 = final1.T\n",
    "        final = pd.concat([final, final1])\n",
    "\n",
    "    return final"
   ]
  },
  {
   "cell_type": "code",
   "execution_count": 3,
   "metadata": {},
   "outputs": [],
   "source": [
    "def rest_rec(cost, people=2, min_cost=0, cuisine=[], Locality=[], fav_rest=\"\", lko_rest=lko_rest):\n",
    "\n",
    "    cost = cost + 200\n",
    "\n",
    "    x = cost / people\n",
    "    y = min_cost / people\n",
    "\n",
    "    lko_rest1 = lko_rest.copy().loc[lko_rest['locality'] == Locality[0]]\n",
    "\n",
    "    for i in range(1, len(Locality)):\n",
    "        lko_rest2 = lko_rest.copy().loc[lko_rest['locality'] == Locality[i]]\n",
    "        lko_rest1 = pd.concat([lko_rest1, lko_rest2])\n",
    "        lko_rest1.drop_duplicates(subset='name', keep='last', inplace=True)\n",
    "\n",
    "    lko_rest_locale = lko_rest1.copy()\n",
    "\n",
    "    lko_rest_locale = lko_rest_locale.loc[lko_rest_locale['average_cost_for_one'] <= x]\n",
    "    lko_rest_locale = lko_rest_locale.loc[lko_rest_locale['average_cost_for_one'] >= y]\n",
    "\n",
    "    lko_rest_locale['Start'] = lko_rest_locale['cuisines'].str.find(cuisine[0])\n",
    "    lko_rest_cui = lko_rest_locale.copy().loc[lko_rest_locale['Start'] >= 0]\n",
    "\n",
    "    for i in range(1, len(cuisine)):\n",
    "        lko_rest_locale['Start'] = lko_rest_locale['cuisines'].str.find(cuisine[i])\n",
    "        lko_rest_cu = lko_rest_locale.copy().loc[lko_rest_locale['Start'] >= 0]\n",
    "        lko_rest_cui = pd.concat([lko_rest_cui, lko_rest_cu])\n",
    "        lko_rest_cui.drop_duplicates(subset='name', keep='last', inplace=True)\n",
    "\n",
    "    if fav_rest != \"\":\n",
    "\n",
    "        favr = lko_rest.loc[lko_rest['name'] == fav_rest].drop_duplicates()\n",
    "        favr = pd.DataFrame(favr)\n",
    "        lko_rest3 = pd.concat([favr, lko_rest_cui])\n",
    "        lko_rest3.drop('Start', axis=1, inplace=True)\n",
    "        rest_selected = fav(lko_rest3)\n",
    "    else:\n",
    "        lko_rest_cui = lko_rest_cui.sort_values('score', ascending=False)\n",
    "        rest_selected = lko_rest_cui.head(10)\n",
    "    return rest_selected"
   ]
  },
  {
   "cell_type": "code",
   "execution_count": 4,
   "metadata": {},
   "outputs": [],
   "source": [
    "def calc(max_Price, people, min_Price, cuisine, locality):\n",
    "    rest_sugg = rest_rec(max_Price,people,min_Price,[cuisine],[locality])\n",
    "    rest_list1 = rest_sugg.copy().loc[:,['name', 'address', 'locality', 'timings', 'aggregate_rating', 'url', 'cuisines']]\n",
    "    rest_list = pd.DataFrame(rest_list1)\n",
    "    rest_list = rest_list.reset_index()\n",
    "    rest_list = rest_list.rename(columns={'index': 'res_id'})\n",
    "    rest_list.drop('res_id', axis=1, inplace=True)\n",
    "    rest_list = rest_list.T\n",
    "    rest_list = rest_list\n",
    "    ans = rest_list.to_dict()\n",
    "    res = [value for value in ans.values()]\n",
    "    return res"
   ]
  },
  {
   "cell_type": "code",
   "execution_count": 5,
   "metadata": {},
   "outputs": [],
   "source": [
    "my=calc(600,3,200,\"North Indian\",\"Charbagh\")"
   ]
  },
  {
   "cell_type": "code",
   "execution_count": 6,
   "metadata": {},
   "outputs": [
    {
     "name": "stdout",
     "output_type": "stream",
     "text": [
      "Steward Foods\n",
      "55, Moti Nagar, Opposite Dayanand School, Charbagh, Lucknow\n",
      "8:30am – 10:45pm (Mon-Sun)\n",
      "Mast Bite\n",
      "565/566 Rajendra nagar, near Navayug Radiance School, Charbagh, Lucknow\n",
      "11am – 10:30pm (Mon, Tue, Wed, Fri, Sat, Sun), 11:01am – 10:30pm (Thu)\n",
      "Balaji Bhojnalay\n",
      "Opposite Mohan Hotel, Gautam Budh Marg, Charbagh, Lucknow\n",
      "12Midnight to 1AM, 8AM to 12Midnight (Mon-Sun)\n",
      "Balaji Bhojnalay\n",
      "Opposite Mohan Hotel, Gautam Budh Marg, Charbagh, Lucknow\n",
      "12Midnight to 1AM, 8AM to 12Midnight (Mon-Sun)\n",
      "Manoranjan Sweet House\n",
      "22, Naka Road, Charbagh, Lucknow\n",
      "6 AM to 11 PM (Mon-Sun)\n",
      "Raj Luxmi\n",
      "24, Gurunanak Market, Charbagh, Lucknow\n",
      "7 AM to 11 PM (Mon-Sun)\n"
     ]
    }
   ],
   "source": [
    "for i in my:\n",
    "    print(i['name'])\n",
    "    print(i['address'])\n",
    "    print(i['timings'])"
   ]
  },
  {
   "cell_type": "code",
   "execution_count": null,
   "metadata": {},
   "outputs": [],
   "source": []
  }
 ],
 "metadata": {
  "kernelspec": {
   "display_name": "Python 3",
   "language": "python",
   "name": "python3"
  },
  "language_info": {
   "codemirror_mode": {
    "name": "ipython",
    "version": 3
   },
   "file_extension": ".py",
   "mimetype": "text/x-python",
   "name": "python",
   "nbconvert_exporter": "python",
   "pygments_lexer": "ipython3",
   "version": "3.7.6"
  }
 },
 "nbformat": 4,
 "nbformat_minor": 4
}
